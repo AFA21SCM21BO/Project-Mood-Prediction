{
  "nbformat": 4,
  "nbformat_minor": 0,
  "metadata": {
    "interpreter": {
      "hash": "b0fa6594d8f4cbf19f97940f81e996739fb7646882a419484c72d19e05852a7e"
    },
    "kernelspec": {
      "display_name": "Python 3.9.9 64-bit",
      "language": "python",
      "name": "python3"
    },
    "language_info": {
      "codemirror_mode": {
        "name": "ipython",
        "version": 3
      },
      "file_extension": ".py",
      "mimetype": "text/x-python",
      "name": "python",
      "nbconvert_exporter": "python",
      "pygments_lexer": "ipython3",
      "version": "3.9.9"
    },
    "orig_nbformat": 4,
    "colab": {
      "name": "lightgbm.ipynb",
      "provenance": []
    }
  },
  "cells": [
    {
      "cell_type": "code",
      "metadata": {
        "colab": {
          "base_uri": "https://localhost:8080/"
        },
        "id": "ibwvOjUL2yCw",
        "outputId": "da13be02-1805-414c-fbb0-9d6d84de6dcb"
      },
      "source": [
        "# check lightgbm version\n",
        "import lightgbm\n",
        "from sklearn.model_selection import train_test_split\n",
        "from sklearn.datasets import make_regression\n",
        "from sklearn.model_selection import cross_val_score\n",
        "from sklearn.model_selection import RepeatedKFold\n",
        "from sklearn.model_selection import RepeatedStratifiedKFold\n",
        "from lightgbm import LGBMRegressor\n",
        "from matplotlib import pyplot\n",
        "from lightgbm import LGBMClassifier\n",
        "import lightgbm as lgb\n",
        "\n",
        "# evaluate lightgbm ensemble for regression\n",
        "from numpy import mean\n",
        "from numpy import std\n",
        "print(lightgbm.__version__)"
      ],
      "execution_count": 152,
      "outputs": [
        {
          "output_type": "stream",
          "name": "stdout",
          "text": [
            "2.2.3\n"
          ]
        }
      ]
    },
    {
      "cell_type": "code",
      "metadata": {
        "colab": {
          "base_uri": "https://localhost:8080/"
        },
        "id": "LkIUCdf2MMlF",
        "outputId": "cd0185aa-9e15-4777-e5b1-8eb45b868970"
      },
      "source": [
        "def splitBySession():\n",
        "  \n",
        "  # importing the merged dataset from spotify\n",
        "  spotifyData = pd.read_csv(\"spotify_merged_dataset.csv\")\n",
        "  # spotifyData.info()\n",
        "  gby = spotifyData.groupby('session_id')\n",
        "  # print(gby.agg(list))\n",
        "  print(gby.agg(pd.Series.tolist).head())\n",
        "splitBySession()"
      ],
      "execution_count": 153,
      "outputs": [
        {
          "output_type": "stream",
          "name": "stdout",
          "text": [
            "                                                                               Unnamed: 0  ...                                           liveness\n",
            "session_id                                                                                 ...                                                   \n",
            "1_00001238-3f7a-4fd2-b52e-af4237a41ed9  [0, 1, 2, 3, 4, 5, 6, 7, 8, 9, 10, 11, 12, 13,...  ...  [0.1122471019625663, -999.0, 0.122876264154911...\n",
            "1_00001396-6ac0-4583-a3fd-c286579eda66   [20, 21, 22, 23, 24, 25, 26, 27, 28, 29, 30, 31]  ...  [0.108414240181446, 0.1201553791761398, -999.0...\n",
            "1_00010670-8e11-4d16-9a05-9bebd37ba758  [32, 33, 34, 35, 36, 37, 38, 39, 40, 41, 42, 4...  ...  [0.0861334353685379, 0.2020473927259445, 0.189...\n",
            "1_000157d2-9424-4240-88ae-12b9d2835e52  [52, 53, 54, 55, 56, 57, 58, 59, 60, 61, 62, 6...  ...  [-999.0, -999.0, -999.0, 0.0489461608231067, -...\n",
            "1_00015a7d-b075-4661-85c5-e3f424344dda  [66, 67, 68, 69, 70, 71, 72, 73, 74, 75, 76, 7...  ...  [-999.0, -999.0, -999.0, -999.0, -999.0, 0.097...\n",
            "\n",
            "[5 rows x 9 columns]\n"
          ]
        }
      ]
    },
    {
      "cell_type": "code",
      "metadata": {
        "id": "L-IviRUZ5aaJ"
      },
      "source": [
        "def importDataSet():\n",
        "  \n",
        "  # importing the merged dataset from spotify\n",
        "  spotifyData = pd.read_csv(\"spotify_merged_dataset.csv\")\n",
        "  tempDf = spotifyData\n",
        "\n",
        "  # converting boolean output column to int \n",
        "  tempDf[\"skip_2\"] = tempDf[\"skip_2\"]*1\n",
        "  \n",
        "  y = tempDf[\"skip_2\"].to_numpy()\n",
        "  # print(tempDf.info())\n",
        "  # Dropping output column and serial number column\n",
        "  tempDf = tempDf.drop(tempDf.columns[[0, 1,3,4]], axis=1)\n",
        "  # print(tempDf.info())\n",
        "\n",
        "  x = tempDf.to_numpy()\n",
        "  print(y)\n",
        "  return spotifyData,x,y"
      ],
      "execution_count": 154,
      "outputs": []
    },
    {
      "cell_type": "code",
      "metadata": {
        "colab": {
          "base_uri": "https://localhost:8080/",
          "height": 521
        },
        "id": "OaORObJJ55WO",
        "outputId": "5b095ec7-273e-42bc-919d-91e7859d5d86"
      },
      "source": [
        "# Test train Split\n",
        "spotifyData,X,Y = importDataSet()\n",
        "X_train, X_test, y_train, y_test = train_test_split(X, Y, test_size=0.33, random_state=42)\n",
        "\n",
        "model = LGBMClassifier()\n",
        "# model.fit(X_train, y_train)\n",
        "model.fit(X_train, y_train, eval_set=[(X_test, y_test), (X_train, y_train)], verbose=10)\n",
        "lgb.plot_metric(model)\n",
        "# Predicting the Target variable\n",
        "pred = model.predict(X_test)\n",
        "print(pred)\n",
        "accuracy = model.score(X_test, y_test)\n",
        "print(accuracy)\n",
        "# lgb.plot_metric(model)"
      ],
      "execution_count": 155,
      "outputs": [
        {
          "output_type": "stream",
          "name": "stdout",
          "text": [
            "[1 1 1 ... 0 0 1]\n",
            "[10]\ttraining's binary_logloss: 0.683855\tvalid_0's binary_logloss: 0.689318\n",
            "[20]\ttraining's binary_logloss: 0.679364\tvalid_0's binary_logloss: 0.689375\n",
            "[30]\ttraining's binary_logloss: 0.675746\tvalid_0's binary_logloss: 0.689704\n",
            "[40]\ttraining's binary_logloss: 0.672459\tvalid_0's binary_logloss: 0.689932\n",
            "[50]\ttraining's binary_logloss: 0.66979\tvalid_0's binary_logloss: 0.690301\n",
            "[60]\ttraining's binary_logloss: 0.666688\tvalid_0's binary_logloss: 0.690437\n",
            "[70]\ttraining's binary_logloss: 0.663952\tvalid_0's binary_logloss: 0.690874\n",
            "[80]\ttraining's binary_logloss: 0.66141\tvalid_0's binary_logloss: 0.691367\n",
            "[90]\ttraining's binary_logloss: 0.659158\tvalid_0's binary_logloss: 0.691994\n",
            "[100]\ttraining's binary_logloss: 0.656386\tvalid_0's binary_logloss: 0.692546\n",
            "[1 0 1 ... 1 1 1]\n",
            "0.5341212121212121\n"
          ]
        },
        {
          "output_type": "display_data",
          "data": {
            "image/png": "[encoded data removed]",
            "text/plain": [
              "<Figure size 432x288 with 1 Axes>"
            ]
          },
          "metadata": {
            "needs_background": "light"
          }
        }
      ]
    },
    {
      "cell_type": "code",
      "metadata": {
        "id": "W30oZCz__a5w"
      },
      "source": [
        "# model = LGBMRegressor()\n",
        "# # evaluate the model\n",
        "# cv = RepeatedKFold(n_splits=10, n_repeats=3, random_state=1)\n",
        "# n_scores = cross_val_score(model, X, Y, scoring='accuracy', cv=cv, n_jobs=-1, error_score='raise')\n",
        "# # report performance\n",
        "# print('MAE: %.3f (%.3f)' % (mean(n_scores), std(n_scores)))"
      ],
      "execution_count": 156,
      "outputs": []
    },
    {
      "cell_type": "code",
      "metadata": {
        "id": "xclsw6S2AyO9"
      },
      "source": [
        "# print(n_scores)"
      ],
      "execution_count": 157,
      "outputs": []
    },
    {
      "cell_type": "code",
      "metadata": {
        "id": "Bfj_j4RtDQJv"
      },
      "source": [
        "# def evaluate_model(model):\n",
        "# \tcv = RepeatedStratifiedKFold(n_splits=10, n_repeats=3, random_state=1)\n",
        "# \tscores = cross_val_score(model, X, Y, scoring='accuracy', cv=cv, n_jobs=-1)\n",
        "# \treturn scores"
      ],
      "execution_count": 158,
      "outputs": []
    },
    {
      "cell_type": "code",
      "metadata": {
        "id": "norgPleAEunT"
      },
      "source": [
        "# def get_models():\n",
        "# \tmodels = dict()\n",
        "# \tfor i in range(1,11):\n",
        "# \t\tmodels[str(i)] = LGBMClassifier(max_depth=i, num_leaves=2**i)\n",
        "# \treturn models"
      ],
      "execution_count": 159,
      "outputs": []
    },
    {
      "cell_type": "code",
      "metadata": {
        "id": "m16GrALOE0-O"
      },
      "source": [
        "# spotifyData,X,Y = importDataSet()\n",
        "# print(X.shape)\n",
        "# models = get_models()\n",
        "\n",
        "# results, names = list(), list()\n",
        "# for name, model in models.items():\n",
        "# \tscores = evaluate_model(model)\n",
        "# \tresults.append(scores)\n",
        "# \tnames.append(name)\n",
        "# \tprint('>%s %.3f (%.3f)' % (name, mean(scores), std(scores)))\n",
        " \n",
        "# pyplot.boxplot(results, labels=names, showmeans=True)\n",
        "# pyplot.show()"
      ],
      "execution_count": 160,
      "outputs": []
    },
    {
      "cell_type": "code",
      "metadata": {
        "id": "5k0sx4EEGK60"
      },
      "source": [
        ""
      ],
      "execution_count": 160,
      "outputs": []
    }
  ]
}
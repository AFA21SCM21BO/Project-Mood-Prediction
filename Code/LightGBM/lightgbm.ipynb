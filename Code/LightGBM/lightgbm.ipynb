{
  "nbformat": 4,
  "nbformat_minor": 0,
  "metadata": {
    "interpreter": {
      "hash": "b0fa6594d8f4cbf19f97940f81e996739fb7646882a419484c72d19e05852a7e"
    },
    "kernelspec": {
      "display_name": "Python 3.9.9 64-bit",
      "language": "python",
      "name": "python3"
    },
    "language_info": {
      "codemirror_mode": {
        "name": "ipython",
        "version": 3
      },
      "file_extension": ".py",
      "mimetype": "text/x-python",
      "name": "python",
      "nbconvert_exporter": "python",
      "pygments_lexer": "ipython3",
      "version": "3.9.9"
    },
    "orig_nbformat": 4,
    "colab": {
      "name": "lightgbm.ipynb",
      "provenance": []
    }
  },
  "cells": [
    {
      "cell_type": "code",
      "metadata": {
        "id": "ibwvOjUL2yCw"
      },
      "source": [
        "# check lightgbm version\n",
        "import lightgbm\n",
        "from sklearn.model_selection import train_test_split\n",
        "from sklearn.datasets import make_regression\n",
        "from sklearn.model_selection import cross_val_score\n",
        "from sklearn.model_selection import RepeatedKFold\n",
        "from sklearn.model_selection import RepeatedStratifiedKFold\n",
        "from lightgbm import LGBMRegressor\n",
        "from matplotlib import pyplot\n",
        "from lightgbm import LGBMClassifier\n",
        "import lightgbm as lgb\n",
        "from sklearn import preprocessing\n",
        "\n",
        "# evaluate lightgbm ensemble for regression\n",
        "from numpy import mean\n",
        "from numpy import std\n",
        "import pandas as pd\n"
      ],
      "execution_count": 9,
      "outputs": []
    },
    {
      "cell_type": "code",
      "metadata": {
        "colab": {
          "base_uri": "https://localhost:8080/"
        },
        "id": "LkIUCdf2MMlF",
        "outputId": "de6bea76-deca-4cef-dd36-c06bde14ffc2"
      },
      "source": [
        "def splitBySession():\n",
        "  \n",
        "  # importing the merged dataset from spotify\n",
        "  spotifyData = pd.read_csv(\"spotify_merged_dataset.csv\")\n",
        "  # spotifyData.info()\n",
        "  gby = spotifyData.groupby('session_id')\n",
        "  # print(gby.agg(list))\n",
        "  print(gby.agg(pd.Series.tolist).head())\n",
        "splitBySession()"
      ],
      "execution_count": 10,
      "outputs": [
        {
          "output_type": "stream",
          "name": "stdout",
          "text": [
            "                                                                               Unnamed: 0  ...                                           liveness\n",
            "session_id                                                                                 ...                                                   \n",
            "1_00001238-3f7a-4fd2-b52e-af4237a41ed9  [0, 1, 2, 3, 4, 5, 6, 7, 8, 9, 10, 11, 12, 13,...  ...  [0.1122471019625663, -999.0, 0.122876264154911...\n",
            "1_00001396-6ac0-4583-a3fd-c286579eda66   [20, 21, 22, 23, 24, 25, 26, 27, 28, 29, 30, 31]  ...  [0.108414240181446, 0.1201553791761398, -999.0...\n",
            "1_00010670-8e11-4d16-9a05-9bebd37ba758  [32, 33, 34, 35, 36, 37, 38, 39, 40, 41, 42, 4...  ...  [0.0861334353685379, 0.2020473927259445, 0.189...\n",
            "1_000157d2-9424-4240-88ae-12b9d2835e52  [52, 53, 54, 55, 56, 57, 58, 59, 60, 61, 62, 6...  ...  [-999.0, -999.0, -999.0, 0.0489461608231067, -...\n",
            "1_00015a7d-b075-4661-85c5-e3f424344dda  [66, 67, 68, 69, 70, 71, 72, 73, 74, 75, 76, 7...  ...  [-999.0, -999.0, -999.0, -999.0, -999.0, 0.097...\n",
            "\n",
            "[5 rows x 9 columns]\n"
          ]
        }
      ]
    },
    {
      "cell_type": "code",
      "metadata": {
        "id": "L-IviRUZ5aaJ"
      },
      "source": [
        "def importDataSet():\n",
        "  \n",
        "  # importing the merged dataset from spotify\n",
        "  spotifyData = pd.read_csv(\"spotify_merged_dataset.csv\")\n",
        "  tempDf = spotifyData\n",
        "\n",
        "  # converting boolean output column to int \n",
        "  tempDf[\"skip_2\"] = tempDf[\"skip_2\"]*1\n",
        "  \n",
        "  y = tempDf[\"skip_2\"].to_numpy()\n",
        "  # Dropping output column and serial number column\n",
        "  tempDf = tempDf.drop(tempDf.columns[[0, 1,3,4]], axis=1)\n",
        "  \n",
        "\n",
        "  # tempDf[tempDf < 0] = 0\n",
        "  x = tempDf.to_numpy()\n",
        "  print(y)\n",
        "  return tempDf,spotifyData,x,y"
      ],
      "execution_count": 11,
      "outputs": []
    },
    {
      "cell_type": "code",
      "metadata": {
        "colab": {
          "base_uri": "https://localhost:8080/",
          "height": 318
        },
        "id": "KKa4aZjAqlbe",
        "outputId": "1ff575bf-1e26-49b1-8f7f-96fe328aaac4"
      },
      "source": [
        "tempDf,spotifyData,X,Y = importDataSet()\n",
        "tempDf.describe()\n"
      ],
      "execution_count": 12,
      "outputs": [
        {
          "output_type": "stream",
          "name": "stdout",
          "text": [
            "[1 1 1 ... 0 0 1]\n"
          ]
        },
        {
          "output_type": "execute_result",
          "data": {
            "text/html": [
              "<div>\n",
              "<style scoped>\n",
              "    .dataframe tbody tr th:only-of-type {\n",
              "        vertical-align: middle;\n",
              "    }\n",
              "\n",
              "    .dataframe tbody tr th {\n",
              "        vertical-align: top;\n",
              "    }\n",
              "\n",
              "    .dataframe thead th {\n",
              "        text-align: right;\n",
              "    }\n",
              "</style>\n",
              "<table border=\"1\" class=\"dataframe\">\n",
              "  <thead>\n",
              "    <tr style=\"text-align: right;\">\n",
              "      <th></th>\n",
              "      <th>session_length</th>\n",
              "      <th>acousticness</th>\n",
              "      <th>danceability</th>\n",
              "      <th>loudness</th>\n",
              "      <th>speechiness</th>\n",
              "      <th>liveness</th>\n",
              "    </tr>\n",
              "  </thead>\n",
              "  <tbody>\n",
              "    <tr>\n",
              "      <th>count</th>\n",
              "      <td>50000.000000</td>\n",
              "      <td>50000.000000</td>\n",
              "      <td>50000.000000</td>\n",
              "      <td>50000.000000</td>\n",
              "      <td>50000.000000</td>\n",
              "      <td>50000.000000</td>\n",
              "    </tr>\n",
              "    <tr>\n",
              "      <th>mean</th>\n",
              "      <td>17.616240</td>\n",
              "      <td>-510.979002</td>\n",
              "      <td>-510.765254</td>\n",
              "      <td>-514.533860</td>\n",
              "      <td>-511.019604</td>\n",
              "      <td>-510.995005</td>\n",
              "    </tr>\n",
              "    <tr>\n",
              "      <th>std</th>\n",
              "      <td>3.403381</td>\n",
              "      <td>499.482549</td>\n",
              "      <td>499.701298</td>\n",
              "      <td>495.849398</td>\n",
              "      <td>499.440971</td>\n",
              "      <td>499.466150</td>\n",
              "    </tr>\n",
              "    <tr>\n",
              "      <th>min</th>\n",
              "      <td>10.000000</td>\n",
              "      <td>-999.000000</td>\n",
              "      <td>-999.000000</td>\n",
              "      <td>-999.000000</td>\n",
              "      <td>-999.000000</td>\n",
              "      <td>-999.000000</td>\n",
              "    </tr>\n",
              "    <tr>\n",
              "      <th>25%</th>\n",
              "      <td>15.000000</td>\n",
              "      <td>-999.000000</td>\n",
              "      <td>-999.000000</td>\n",
              "      <td>-999.000000</td>\n",
              "      <td>-999.000000</td>\n",
              "      <td>-999.000000</td>\n",
              "    </tr>\n",
              "    <tr>\n",
              "      <th>50%</th>\n",
              "      <td>20.000000</td>\n",
              "      <td>-999.000000</td>\n",
              "      <td>-999.000000</td>\n",
              "      <td>-999.000000</td>\n",
              "      <td>-999.000000</td>\n",
              "      <td>-999.000000</td>\n",
              "    </tr>\n",
              "    <tr>\n",
              "      <th>75%</th>\n",
              "      <td>20.000000</td>\n",
              "      <td>0.113909</td>\n",
              "      <td>0.675128</td>\n",
              "      <td>-6.477000</td>\n",
              "      <td>0.081916</td>\n",
              "      <td>0.124292</td>\n",
              "    </tr>\n",
              "    <tr>\n",
              "      <th>max</th>\n",
              "      <td>20.000000</td>\n",
              "      <td>0.995501</td>\n",
              "      <td>0.984394</td>\n",
              "      <td>0.496000</td>\n",
              "      <td>0.965393</td>\n",
              "      <td>0.997182</td>\n",
              "    </tr>\n",
              "  </tbody>\n",
              "</table>\n",
              "</div>"
            ],
            "text/plain": [
              "       session_length  acousticness  ...   speechiness      liveness\n",
              "count    50000.000000  50000.000000  ...  50000.000000  50000.000000\n",
              "mean        17.616240   -510.979002  ...   -511.019604   -510.995005\n",
              "std          3.403381    499.482549  ...    499.440971    499.466150\n",
              "min         10.000000   -999.000000  ...   -999.000000   -999.000000\n",
              "25%         15.000000   -999.000000  ...   -999.000000   -999.000000\n",
              "50%         20.000000   -999.000000  ...   -999.000000   -999.000000\n",
              "75%         20.000000      0.113909  ...      0.081916      0.124292\n",
              "max         20.000000      0.995501  ...      0.965393      0.997182\n",
              "\n",
              "[8 rows x 6 columns]"
            ]
          },
          "metadata": {},
          "execution_count": 12
        }
      ]
    },
    {
      "cell_type": "code",
      "metadata": {
        "colab": {
          "base_uri": "https://localhost:8080/",
          "height": 642
        },
        "id": "OaORObJJ55WO",
        "outputId": "1500064a-7661-46a9-a65d-6f625938e7a9"
      },
      "source": [
        "# Test train Split\n",
        "tempDf,spotifyData,X,Y = importDataSet()\n",
        "X_train, X_test, y_train, y_test = train_test_split(X, Y, test_size=0.33, random_state=42)\n",
        "\n",
        "modelAuc = LGBMClassifier(metric=['cross_entropy'],n_estimators= 10)\n",
        "modelEntr = LGBMClassifier(metric=['auc'],n_estimators= 10)\n",
        "# model.fit(X_train, y_train)\n",
        "modelAuc.fit(X_train, y_train, eval_set=[(X_test, y_test), (X_train, y_train)], verbose=10)\n",
        "modelEntr.fit(X_train, y_train, eval_set=[(X_test, y_test), (X_train, y_train)], verbose=10)\n",
        "# lgb.plot_metric(model, metric='auc')\n",
        "lgb.plot_metric(modelAuc )\n",
        "lgb.plot_metric(modelEntr)\n",
        "# Predicting the Target variable\n",
        "# print()\n",
        "# pred = modelEntr.predict(X_test)\n",
        "# print(pred)\n",
        "accuracy = modelEntr.score(X_test, y_test)\n",
        "print(\"Accuracy on test data: \",accuracy)\n",
        "# lgb.plot_metric(model)"
      ],
      "execution_count": 13,
      "outputs": [
        {
          "output_type": "stream",
          "name": "stdout",
          "text": [
            "[1 1 1 ... 0 0 1]\n",
            "[10]\ttraining's xentropy: 0.683855\tvalid_0's xentropy: 0.689318\n",
            "[10]\ttraining's auc: 0.585218\tvalid_0's auc: 0.54718\n",
            "Accuracy on test data:  0.5399393939393939\n"
          ]
        },
        {
          "output_type": "display_data",
          "data": {
            "image/png": "[encoded data removed]",
            "text/plain": [
              "<Figure size 432x288 with 1 Axes>"
            ]
          },
          "metadata": {
            "needs_background": "light"
          }
        },
        {
          "output_type": "display_data",
          "data": {
            "image/png": "[encoded data removed]",
            "text/plain": [
              "<Figure size 432x288 with 1 Axes>"
            ]
          },
          "metadata": {
            "needs_background": "light"
          }
        }
      ]
    },
    {
      "cell_type": "code",
      "metadata": {
        "id": "5k0sx4EEGK60"
      },
      "source": [
        ""
      ],
      "execution_count": 13,
      "outputs": []
    }
  ]
}
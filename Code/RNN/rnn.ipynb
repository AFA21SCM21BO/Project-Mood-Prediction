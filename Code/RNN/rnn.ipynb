{
 "cells": [
  {
   "cell_type": "code",
   "execution_count": 31,
   "metadata": {},
   "outputs": [],
   "source": [
    "import pandas as pd"
   ]
  },
  {
   "cell_type": "code",
   "execution_count": 32,
   "metadata": {},
   "outputs": [
    {
     "data": {
      "text/html": [
       "<div>\n",
       "<style scoped>\n",
       "    .dataframe tbody tr th:only-of-type {\n",
       "        vertical-align: middle;\n",
       "    }\n",
       "\n",
       "    .dataframe tbody tr th {\n",
       "        vertical-align: top;\n",
       "    }\n",
       "\n",
       "    .dataframe thead th {\n",
       "        text-align: right;\n",
       "    }\n",
       "</style>\n",
       "<table border=\"1\" class=\"dataframe\">\n",
       "  <thead>\n",
       "    <tr style=\"text-align: right;\">\n",
       "      <th></th>\n",
       "      <th>Unnamed: 0</th>\n",
       "      <th>session_id</th>\n",
       "      <th>session_length</th>\n",
       "      <th>skip_2</th>\n",
       "      <th>track_id</th>\n",
       "      <th>acousticness</th>\n",
       "      <th>danceability</th>\n",
       "      <th>loudness</th>\n",
       "      <th>speechiness</th>\n",
       "      <th>liveness</th>\n",
       "    </tr>\n",
       "  </thead>\n",
       "  <tbody>\n",
       "    <tr>\n",
       "      <th>0</th>\n",
       "      <td>0</td>\n",
       "      <td>1_00001238-3f7a-4fd2-b52e-af4237a41ed9</td>\n",
       "      <td>20</td>\n",
       "      <td>True</td>\n",
       "      <td>t_91eb6576-0f1f-4394-92d8-560d7b8f632b</td>\n",
       "      <td>0.085350</td>\n",
       "      <td>0.790459</td>\n",
       "      <td>-4.66</td>\n",
       "      <td>0.052383</td>\n",
       "      <td>0.112247</td>\n",
       "    </tr>\n",
       "    <tr>\n",
       "      <th>1</th>\n",
       "      <td>1</td>\n",
       "      <td>1_00001238-3f7a-4fd2-b52e-af4237a41ed9</td>\n",
       "      <td>20</td>\n",
       "      <td>True</td>\n",
       "      <td>-999</td>\n",
       "      <td>-999.000000</td>\n",
       "      <td>-999.000000</td>\n",
       "      <td>-999.00</td>\n",
       "      <td>-999.000000</td>\n",
       "      <td>-999.000000</td>\n",
       "    </tr>\n",
       "    <tr>\n",
       "      <th>2</th>\n",
       "      <td>2</td>\n",
       "      <td>1_00001238-3f7a-4fd2-b52e-af4237a41ed9</td>\n",
       "      <td>20</td>\n",
       "      <td>True</td>\n",
       "      <td>t_98e73634-8f33-4275-b544-3451553f431e</td>\n",
       "      <td>0.133331</td>\n",
       "      <td>0.607389</td>\n",
       "      <td>-9.09</td>\n",
       "      <td>0.358223</td>\n",
       "      <td>0.122876</td>\n",
       "    </tr>\n",
       "    <tr>\n",
       "      <th>3</th>\n",
       "      <td>3</td>\n",
       "      <td>1_00001238-3f7a-4fd2-b52e-af4237a41ed9</td>\n",
       "      <td>20</td>\n",
       "      <td>False</td>\n",
       "      <td>-999</td>\n",
       "      <td>-999.000000</td>\n",
       "      <td>-999.000000</td>\n",
       "      <td>-999.00</td>\n",
       "      <td>-999.000000</td>\n",
       "      <td>-999.000000</td>\n",
       "    </tr>\n",
       "    <tr>\n",
       "      <th>4</th>\n",
       "      <td>4</td>\n",
       "      <td>1_00001238-3f7a-4fd2-b52e-af4237a41ed9</td>\n",
       "      <td>20</td>\n",
       "      <td>False</td>\n",
       "      <td>-999</td>\n",
       "      <td>-999.000000</td>\n",
       "      <td>-999.000000</td>\n",
       "      <td>-999.00</td>\n",
       "      <td>-999.000000</td>\n",
       "      <td>-999.000000</td>\n",
       "    </tr>\n",
       "  </tbody>\n",
       "</table>\n",
       "</div>"
      ],
      "text/plain": [
       "   Unnamed: 0                              session_id  session_length  skip_2  \\\n",
       "0           0  1_00001238-3f7a-4fd2-b52e-af4237a41ed9              20    True   \n",
       "1           1  1_00001238-3f7a-4fd2-b52e-af4237a41ed9              20    True   \n",
       "2           2  1_00001238-3f7a-4fd2-b52e-af4237a41ed9              20    True   \n",
       "3           3  1_00001238-3f7a-4fd2-b52e-af4237a41ed9              20   False   \n",
       "4           4  1_00001238-3f7a-4fd2-b52e-af4237a41ed9              20   False   \n",
       "\n",
       "                                 track_id  acousticness  danceability  \\\n",
       "0  t_91eb6576-0f1f-4394-92d8-560d7b8f632b      0.085350      0.790459   \n",
       "1                                    -999   -999.000000   -999.000000   \n",
       "2  t_98e73634-8f33-4275-b544-3451553f431e      0.133331      0.607389   \n",
       "3                                    -999   -999.000000   -999.000000   \n",
       "4                                    -999   -999.000000   -999.000000   \n",
       "\n",
       "   loudness  speechiness    liveness  \n",
       "0     -4.66     0.052383    0.112247  \n",
       "1   -999.00  -999.000000 -999.000000  \n",
       "2     -9.09     0.358223    0.122876  \n",
       "3   -999.00  -999.000000 -999.000000  \n",
       "4   -999.00  -999.000000 -999.000000  "
      ]
     },
     "execution_count": 32,
     "metadata": {},
     "output_type": "execute_result"
    }
   ],
   "source": [
    "df = pd.read_csv(r'/Users/abhishekb/Documents/ML/Project_Mood_Prediction/Project-Mood-Prediction/DataSet/spotify_merged_dataset.csv')\n",
    "df.head()"
   ]
  },
  {
   "cell_type": "code",
   "execution_count": 37,
   "metadata": {},
   "outputs": [
    {
     "name": "stdout",
     "output_type": "stream",
     "text": [
      "<class 'pandas.core.frame.DataFrame'>\n",
      "RangeIndex: 50000 entries, 0 to 49999\n",
      "Data columns (total 10 columns):\n",
      " #   Column          Non-Null Count  Dtype  \n",
      "---  ------          --------------  -----  \n",
      " 0   Unnamed: 0      50000 non-null  int64  \n",
      " 1   session_id      50000 non-null  object \n",
      " 2   session_length  50000 non-null  int64  \n",
      " 3   skip_2          50000 non-null  bool   \n",
      " 4   track_id        50000 non-null  object \n",
      " 5   acousticness    50000 non-null  float64\n",
      " 6   danceability    50000 non-null  float64\n",
      " 7   loudness        50000 non-null  float64\n",
      " 8   speechiness     50000 non-null  float64\n",
      " 9   liveness        50000 non-null  float64\n",
      "dtypes: bool(1), float64(5), int64(2), object(2)\n",
      "memory usage: 3.5+ MB\n"
     ]
    }
   ],
   "source": [
    "df.info()"
   ]
  },
  {
   "cell_type": "code",
   "execution_count": null,
   "metadata": {},
   "outputs": [],
   "source": []
  },
  {
   "cell_type": "code",
   "execution_count": null,
   "metadata": {},
   "outputs": [],
   "source": []
  },
  {
   "cell_type": "code",
   "execution_count": null,
   "metadata": {},
   "outputs": [],
   "source": []
  }
 ],
 "metadata": {
  "interpreter": {
   "hash": "b0fa6594d8f4cbf19f97940f81e996739fb7646882a419484c72d19e05852a7e"
  },
  "kernelspec": {
   "display_name": "Python 3.9.9 64-bit",
   "language": "python",
   "name": "python3"
  },
  "language_info": {
   "codemirror_mode": {
    "name": "ipython",
    "version": 3
   },
   "file_extension": ".py",
   "mimetype": "text/x-python",
   "name": "python",
   "nbconvert_exporter": "python",
   "pygments_lexer": "ipython3",
   "version": "3.9.9"
  },
  "orig_nbformat": 4
 },
 "nbformat": 4,
 "nbformat_minor": 2
}

{
  "nbformat": 4,
  "nbformat_minor": 0,
  "metadata": {
    "interpreter": {
      "hash": "b0fa6594d8f4cbf19f97940f81e996739fb7646882a419484c72d19e05852a7e"
    },
    "kernelspec": {
      "display_name": "Python 3.9.9 64-bit",
      "language": "python",
      "name": "python3"
    },
    "language_info": {
      "codemirror_mode": {
        "name": "ipython",
        "version": 3
      },
      "file_extension": ".py",
      "mimetype": "text/x-python",
      "name": "python",
      "nbconvert_exporter": "python",
      "pygments_lexer": "ipython3",
      "version": "3.9.9"
    },
    "orig_nbformat": 4,
    "colab": {
      "name": "rnn.ipynb",
      "provenance": [],
      "include_colab_link": true
    }
  },
  "cells": [
    {
      "cell_type": "markdown",
      "metadata": {
        "id": "view-in-github",
        "colab_type": "text"
      },
      "source": [
        "<a href=\"https://colab.research.google.com/github/AFA21SCM21BO/Project-Mood-Prediction/blob/main/Code/RNN/rnn.ipynb\" target=\"_parent\"><img src=\"https://colab.research.google.com/assets/colab-badge.svg\" alt=\"Open In Colab\"/></a>"
      ]
    },
    {
      "cell_type": "code",
      "metadata": {
        "id": "zZOv6LKyWxRf"
      },
      "source": [
        "import pandas as pd\n",
        "from sklearn.model_selection import train_test_split\n",
        "import tensorflow as tf\n",
        "from tensorflow import keras\n",
        "from tensorflow.keras import layers"
      ],
      "execution_count": 1,
      "outputs": []
    },
    {
      "cell_type": "code",
      "metadata": {
        "id": "jhXl_zp5WxRh",
        "colab": {
          "base_uri": "https://localhost:8080/",
          "height": 310
        },
        "outputId": "21312161-fe99-4cb1-91f3-8d72b83cf497"
      },
      "source": [
        "df = pd.read_csv(r'spotify_merged_dataset.csv')\n",
        "df.head()"
      ],
      "execution_count": 2,
      "outputs": [
        {
          "output_type": "execute_result",
          "data": {
            "text/html": [
              "<div>\n",
              "<style scoped>\n",
              "    .dataframe tbody tr th:only-of-type {\n",
              "        vertical-align: middle;\n",
              "    }\n",
              "\n",
              "    .dataframe tbody tr th {\n",
              "        vertical-align: top;\n",
              "    }\n",
              "\n",
              "    .dataframe thead th {\n",
              "        text-align: right;\n",
              "    }\n",
              "</style>\n",
              "<table border=\"1\" class=\"dataframe\">\n",
              "  <thead>\n",
              "    <tr style=\"text-align: right;\">\n",
              "      <th></th>\n",
              "      <th>Unnamed: 0</th>\n",
              "      <th>session_id</th>\n",
              "      <th>session_length</th>\n",
              "      <th>skip_2</th>\n",
              "      <th>track_id</th>\n",
              "      <th>acousticness</th>\n",
              "      <th>danceability</th>\n",
              "      <th>loudness</th>\n",
              "      <th>speechiness</th>\n",
              "      <th>liveness</th>\n",
              "    </tr>\n",
              "  </thead>\n",
              "  <tbody>\n",
              "    <tr>\n",
              "      <th>0</th>\n",
              "      <td>0</td>\n",
              "      <td>1_00001238-3f7a-4fd2-b52e-af4237a41ed9</td>\n",
              "      <td>20</td>\n",
              "      <td>True</td>\n",
              "      <td>t_91eb6576-0f1f-4394-92d8-560d7b8f632b</td>\n",
              "      <td>0.085350</td>\n",
              "      <td>0.790459</td>\n",
              "      <td>-4.66</td>\n",
              "      <td>0.052383</td>\n",
              "      <td>0.112247</td>\n",
              "    </tr>\n",
              "    <tr>\n",
              "      <th>1</th>\n",
              "      <td>1</td>\n",
              "      <td>1_00001238-3f7a-4fd2-b52e-af4237a41ed9</td>\n",
              "      <td>20</td>\n",
              "      <td>True</td>\n",
              "      <td>-999</td>\n",
              "      <td>-999.000000</td>\n",
              "      <td>-999.000000</td>\n",
              "      <td>-999.00</td>\n",
              "      <td>-999.000000</td>\n",
              "      <td>-999.000000</td>\n",
              "    </tr>\n",
              "    <tr>\n",
              "      <th>2</th>\n",
              "      <td>2</td>\n",
              "      <td>1_00001238-3f7a-4fd2-b52e-af4237a41ed9</td>\n",
              "      <td>20</td>\n",
              "      <td>True</td>\n",
              "      <td>t_98e73634-8f33-4275-b544-3451553f431e</td>\n",
              "      <td>0.133331</td>\n",
              "      <td>0.607389</td>\n",
              "      <td>-9.09</td>\n",
              "      <td>0.358223</td>\n",
              "      <td>0.122876</td>\n",
              "    </tr>\n",
              "    <tr>\n",
              "      <th>3</th>\n",
              "      <td>3</td>\n",
              "      <td>1_00001238-3f7a-4fd2-b52e-af4237a41ed9</td>\n",
              "      <td>20</td>\n",
              "      <td>False</td>\n",
              "      <td>-999</td>\n",
              "      <td>-999.000000</td>\n",
              "      <td>-999.000000</td>\n",
              "      <td>-999.00</td>\n",
              "      <td>-999.000000</td>\n",
              "      <td>-999.000000</td>\n",
              "    </tr>\n",
              "    <tr>\n",
              "      <th>4</th>\n",
              "      <td>4</td>\n",
              "      <td>1_00001238-3f7a-4fd2-b52e-af4237a41ed9</td>\n",
              "      <td>20</td>\n",
              "      <td>False</td>\n",
              "      <td>-999</td>\n",
              "      <td>-999.000000</td>\n",
              "      <td>-999.000000</td>\n",
              "      <td>-999.00</td>\n",
              "      <td>-999.000000</td>\n",
              "      <td>-999.000000</td>\n",
              "    </tr>\n",
              "  </tbody>\n",
              "</table>\n",
              "</div>"
            ],
            "text/plain": [
              "   Unnamed: 0                              session_id  ...  speechiness    liveness\n",
              "0           0  1_00001238-3f7a-4fd2-b52e-af4237a41ed9  ...     0.052383    0.112247\n",
              "1           1  1_00001238-3f7a-4fd2-b52e-af4237a41ed9  ...  -999.000000 -999.000000\n",
              "2           2  1_00001238-3f7a-4fd2-b52e-af4237a41ed9  ...     0.358223    0.122876\n",
              "3           3  1_00001238-3f7a-4fd2-b52e-af4237a41ed9  ...  -999.000000 -999.000000\n",
              "4           4  1_00001238-3f7a-4fd2-b52e-af4237a41ed9  ...  -999.000000 -999.000000\n",
              "\n",
              "[5 rows x 10 columns]"
            ]
          },
          "metadata": {},
          "execution_count": 2
        }
      ]
    },
    {
      "cell_type": "code",
      "metadata": {
        "id": "h19pT7HYWxRk"
      },
      "source": [
        "def importDataSet():\n",
        "  \n",
        "  # importing the merged dataset from spotify\n",
        "  spotifyData = pd.read_csv(\"spotify_merged_dataset.csv\")\n",
        "  tempDf = spotifyData\n",
        "\n",
        "  # converting boolean output column to int \n",
        "  tempDf[\"skip_2\"] = tempDf[\"skip_2\"]*1\n",
        "  \n",
        "  y = tempDf[\"skip_2\"].to_numpy()\n",
        "  # print(tempDf.info())\n",
        "  # Dropping output column and serial number column\n",
        "  tempDf = tempDf.drop(tempDf.columns[[0, 1,3,4]], axis=1)\n",
        "  # print(tempDf.info())\n",
        "\n",
        "  x = tempDf.to_numpy()\n",
        "  print(y)\n",
        "  return spotifyData,x,y"
      ],
      "execution_count": 4,
      "outputs": []
    },
    {
      "cell_type": "code",
      "metadata": {
        "id": "-Al0sSviWxRk",
        "colab": {
          "base_uri": "https://localhost:8080/"
        },
        "outputId": "612ec1ec-ce24-41e0-884c-0fd65d0b6ab4"
      },
      "source": [
        "# Test train Split\n",
        "from tensorflow.keras.utils import to_categorical\n",
        "spotifyData,X,Y = importDataSet()\n",
        "X_train, X_test, y_train, y_test = train_test_split(X, Y, test_size=0.33, random_state=42)\n",
        "y_train = to_categorical(y_train, 2)\n",
        "y_test = to_categorical(y_test, 2)\n",
        "X_train,X_test = X_train / 255.0, X_test / 255.0"
      ],
      "execution_count": 5,
      "outputs": [
        {
          "output_type": "stream",
          "name": "stdout",
          "text": [
            "[1 1 1 ... 0 0 1]\n"
          ]
        }
      ]
    },
    {
      "cell_type": "code",
      "metadata": {
        "id": "GNL1y0mvWxRk",
        "colab": {
          "base_uri": "https://localhost:8080/"
        },
        "outputId": "db1195eb-d3d9-41f6-de76-5b538fef358f"
      },
      "source": [
        "X_train"
      ],
      "execution_count": 6,
      "outputs": [
        {
          "output_type": "execute_result",
          "data": {
            "text/plain": [
              "array([[ 7.84313725e-02, -3.91764706e+00, -3.91764706e+00,\n",
              "        -3.91764706e+00, -3.91764706e+00, -3.91764706e+00],\n",
              "       [ 7.84313725e-02,  1.52920230e-04,  2.01464471e-03,\n",
              "        -2.25725492e-02,  1.42871413e-04,  1.02767068e-03],\n",
              "       [ 3.92156863e-02, -3.91764706e+00, -3.91764706e+00,\n",
              "        -3.91764706e+00, -3.91764706e+00, -3.91764706e+00],\n",
              "       ...,\n",
              "       [ 7.84313725e-02,  1.93474141e-03,  3.10417367e-03,\n",
              "        -1.61764706e-02,  8.81899104e-04,  3.33089338e-04],\n",
              "       [ 7.84313725e-02, -3.91764706e+00, -3.91764706e+00,\n",
              "        -3.91764706e+00, -3.91764706e+00, -3.91764706e+00],\n",
              "       [ 7.84313725e-02,  4.31883773e-04,  2.63320395e-03,\n",
              "        -3.17294102e-02,  9.57136002e-04,  3.23699707e-04]])"
            ]
          },
          "metadata": {},
          "execution_count": 6
        }
      ]
    }
  ]
}
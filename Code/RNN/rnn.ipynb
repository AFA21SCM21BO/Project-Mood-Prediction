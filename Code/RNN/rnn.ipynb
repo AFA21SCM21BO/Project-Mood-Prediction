{
  "nbformat": 4,
  "nbformat_minor": 0,
  "metadata": {
    "interpreter": {
      "hash": "b0fa6594d8f4cbf19f97940f81e996739fb7646882a419484c72d19e05852a7e"
    },
    "kernelspec": {
      "display_name": "Python 3.9.9 64-bit",
      "language": "python",
      "name": "python3"
    },
    "language_info": {
      "codemirror_mode": {
        "name": "ipython",
        "version": 3
      },
      "file_extension": ".py",
      "mimetype": "text/x-python",
      "name": "python",
      "nbconvert_exporter": "python",
      "pygments_lexer": "ipython3",
      "version": "3.9.9"
    },
    "orig_nbformat": 4,
    "colab": {
      "name": "rnn.ipynb",
      "provenance": [],
      "include_colab_link": true
    }
  },
  "cells": [
    {
      "cell_type": "markdown",
      "metadata": {
        "id": "view-in-github",
        "colab_type": "text"
      },
      "source": [
        "<a href=\"https://colab.research.google.com/github/AFA21SCM21BO/Project-Mood-Prediction/blob/main/Code/RNN/rnn.ipynb\" target=\"_parent\"><img src=\"https://colab.research.google.com/assets/colab-badge.svg\" alt=\"Open In Colab\"/></a>"
      ]
    },
    {
      "cell_type": "code",
      "metadata": {
        "id": "zZOv6LKyWxRf"
      },
      "source": [
        "import pandas as pd\n",
        "from sklearn.model_selection import train_test_split\n",
        "import tensorflow as tf\n",
        "from tensorflow import keras\n",
        "from tensorflow.keras import layers"
      ],
      "execution_count": 1,
      "outputs": []
    },
    {
      "cell_type": "code",
      "metadata": {
        "id": "jhXl_zp5WxRh",
        "colab": {
          "base_uri": "https://localhost:8080/",
          "height": 310
        },
        "outputId": "21312161-fe99-4cb1-91f3-8d72b83cf497"
      },
      "source": [
        "df = pd.read_csv(r'spotify_merged_dataset.csv')\n",
        "df.head()"
      ],
      "execution_count": 2,
      "outputs": [
        {
          "output_type": "execute_result",
          "data": {
            "text/html": [
              "<div>\n",
              "<style scoped>\n",
              "    .dataframe tbody tr th:only-of-type {\n",
              "        vertical-align: middle;\n",
              "    }\n",
              "\n",
              "    .dataframe tbody tr th {\n",
              "        vertical-align: top;\n",
              "    }\n",
              "\n",
              "    .dataframe thead th {\n",
              "        text-align: right;\n",
              "    }\n",
              "</style>\n",
              "<table border=\"1\" class=\"dataframe\">\n",
              "  <thead>\n",
              "    <tr style=\"text-align: right;\">\n",
              "      <th></th>\n",
              "      <th>Unnamed: 0</th>\n",
              "      <th>session_id</th>\n",
              "      <th>session_length</th>\n",
              "      <th>skip_2</th>\n",
              "      <th>track_id</th>\n",
              "      <th>acousticness</th>\n",
              "      <th>danceability</th>\n",
              "      <th>loudness</th>\n",
              "      <th>speechiness</th>\n",
              "      <th>liveness</th>\n",
              "    </tr>\n",
              "  </thead>\n",
              "  <tbody>\n",
              "    <tr>\n",
              "      <th>0</th>\n",
              "      <td>0</td>\n",
              "      <td>1_00001238-3f7a-4fd2-b52e-af4237a41ed9</td>\n",
              "      <td>20</td>\n",
              "      <td>True</td>\n",
              "      <td>t_91eb6576-0f1f-4394-92d8-560d7b8f632b</td>\n",
              "      <td>0.085350</td>\n",
              "      <td>0.790459</td>\n",
              "      <td>-4.66</td>\n",
              "      <td>0.052383</td>\n",
              "      <td>0.112247</td>\n",
              "    </tr>\n",
              "    <tr>\n",
              "      <th>1</th>\n",
              "      <td>1</td>\n",
              "      <td>1_00001238-3f7a-4fd2-b52e-af4237a41ed9</td>\n",
              "      <td>20</td>\n",
              "      <td>True</td>\n",
              "      <td>-999</td>\n",
              "      <td>-999.000000</td>\n",
              "      <td>-999.000000</td>\n",
              "      <td>-999.00</td>\n",
              "      <td>-999.000000</td>\n",
              "      <td>-999.000000</td>\n",
              "    </tr>\n",
              "    <tr>\n",
              "      <th>2</th>\n",
              "      <td>2</td>\n",
              "      <td>1_00001238-3f7a-4fd2-b52e-af4237a41ed9</td>\n",
              "      <td>20</td>\n",
              "      <td>True</td>\n",
              "      <td>t_98e73634-8f33-4275-b544-3451553f431e</td>\n",
              "      <td>0.133331</td>\n",
              "      <td>0.607389</td>\n",
              "      <td>-9.09</td>\n",
              "      <td>0.358223</td>\n",
              "      <td>0.122876</td>\n",
              "    </tr>\n",
              "    <tr>\n",
              "      <th>3</th>\n",
              "      <td>3</td>\n",
              "      <td>1_00001238-3f7a-4fd2-b52e-af4237a41ed9</td>\n",
              "      <td>20</td>\n",
              "      <td>False</td>\n",
              "      <td>-999</td>\n",
              "      <td>-999.000000</td>\n",
              "      <td>-999.000000</td>\n",
              "      <td>-999.00</td>\n",
              "      <td>-999.000000</td>\n",
              "      <td>-999.000000</td>\n",
              "    </tr>\n",
              "    <tr>\n",
              "      <th>4</th>\n",
              "      <td>4</td>\n",
              "      <td>1_00001238-3f7a-4fd2-b52e-af4237a41ed9</td>\n",
              "      <td>20</td>\n",
              "      <td>False</td>\n",
              "      <td>-999</td>\n",
              "      <td>-999.000000</td>\n",
              "      <td>-999.000000</td>\n",
              "      <td>-999.00</td>\n",
              "      <td>-999.000000</td>\n",
              "      <td>-999.000000</td>\n",
              "    </tr>\n",
              "  </tbody>\n",
              "</table>\n",
              "</div>"
            ],
            "text/plain": [
              "   Unnamed: 0                              session_id  ...  speechiness    liveness\n",
              "0           0  1_00001238-3f7a-4fd2-b52e-af4237a41ed9  ...     0.052383    0.112247\n",
              "1           1  1_00001238-3f7a-4fd2-b52e-af4237a41ed9  ...  -999.000000 -999.000000\n",
              "2           2  1_00001238-3f7a-4fd2-b52e-af4237a41ed9  ...     0.358223    0.122876\n",
              "3           3  1_00001238-3f7a-4fd2-b52e-af4237a41ed9  ...  -999.000000 -999.000000\n",
              "4           4  1_00001238-3f7a-4fd2-b52e-af4237a41ed9  ...  -999.000000 -999.000000\n",
              "\n",
              "[5 rows x 10 columns]"
            ]
          },
          "metadata": {},
          "execution_count": 2
        }
      ]
    },
    {
      "cell_type": "code",
      "metadata": {
        "id": "h19pT7HYWxRk"
      },
      "source": [
        "def importDataSet():\n",
        "  \n",
        "  # importing the merged dataset from spotify\n",
        "  spotifyData = pd.read_csv(\"spotify_merged_dataset.csv\")\n",
        "  tempDf = spotifyData\n",
        "\n",
        "  # converting boolean output column to int \n",
        "  tempDf[\"skip_2\"] = tempDf[\"skip_2\"]*1\n",
        "  \n",
        "  y = tempDf[\"skip_2\"].to_numpy()\n",
        "  # print(tempDf.info())\n",
        "  # Dropping output column and serial number column\n",
        "  tempDf = tempDf.drop(tempDf.columns[[0, 1,3,4]], axis=1)\n",
        "  # print(tempDf.info())\n",
        "\n",
        "  x = tempDf.to_numpy()\n",
        "  print(y)\n",
        "  return spotifyData,x,y"
      ],
      "execution_count": 4,
      "outputs": []
    },
    {
      "cell_type": "code",
      "metadata": {
        "id": "-Al0sSviWxRk",
        "colab": {
          "base_uri": "https://localhost:8080/"
        },
        "outputId": "612ec1ec-ce24-41e0-884c-0fd65d0b6ab4"
      },
      "source": [
        "# Test train Split\n",
        "from tensorflow.keras.utils import to_categorical\n",
        "spotifyData,X,Y = importDataSet()\n",
        "X_train, X_test, y_train, y_test = train_test_split(X, Y, test_size=0.33, random_state=42)\n",
        "y_train = to_categorical(y_train, 2)\n",
        "y_test = to_categorical(y_test, 2)\n",
        "X_train,X_test = X_train / 255.0, X_test / 255.0"
      ],
      "execution_count": 5,
      "outputs": [
        {
          "output_type": "stream",
          "name": "stdout",
          "text": [
            "[1 1 1 ... 0 0 1]\n"
          ]
        }
      ]
    },
    {
      "cell_type": "code",
      "metadata": {
        "id": "GNL1y0mvWxRk",
        "colab": {
          "base_uri": "https://localhost:8080/"
        },
        "outputId": "db1195eb-d3d9-41f6-de76-5b538fef358f"
      },
      "source": [
        "X_train"
      ],
      "execution_count": 6,
      "outputs": [
        {
          "output_type": "execute_result",
          "data": {
            "text/plain": [
              "array([[ 7.84313725e-02, -3.91764706e+00, -3.91764706e+00,\n",
              "        -3.91764706e+00, -3.91764706e+00, -3.91764706e+00],\n",
              "       [ 7.84313725e-02,  1.52920230e-04,  2.01464471e-03,\n",
              "        -2.25725492e-02,  1.42871413e-04,  1.02767068e-03],\n",
              "       [ 3.92156863e-02, -3.91764706e+00, -3.91764706e+00,\n",
              "        -3.91764706e+00, -3.91764706e+00, -3.91764706e+00],\n",
              "       ...,\n",
              "       [ 7.84313725e-02,  1.93474141e-03,  3.10417367e-03,\n",
              "        -1.61764706e-02,  8.81899104e-04,  3.33089338e-04],\n",
              "       [ 7.84313725e-02, -3.91764706e+00, -3.91764706e+00,\n",
              "        -3.91764706e+00, -3.91764706e+00, -3.91764706e+00],\n",
              "       [ 7.84313725e-02,  4.31883773e-04,  2.63320395e-03,\n",
              "        -3.17294102e-02,  9.57136002e-04,  3.23699707e-04]])"
            ]
          },
          "metadata": {},
          "execution_count": 6
        }
      ]
    },
    {
      "cell_type": "code",
      "metadata": {
        "colab": {
          "base_uri": "https://localhost:8080/"
        },
        "id": "fPSmM3-BYTJg",
        "outputId": "1c2c4ed2-dde0-473a-e1d6-cdfce58724c5"
      },
      "source": [
        "X_train.shape,y_train.shape,X_test.shape,y_test.shape,"
      ],
      "execution_count": 7,
      "outputs": [
        {
          "output_type": "execute_result",
          "data": {
            "text/plain": [
              "((33500, 6), (33500, 2), (16500, 6), (16500, 2))"
            ]
          },
          "metadata": {},
          "execution_count": 7
        }
      ]
    },
    {
      "cell_type": "code",
      "metadata": {
        "id": "tEI1ryHnYYLO"
      },
      "source": [
        "model = keras.models.Sequential()\n",
        "model.add(layers.SimpleRNN(units=10, activation='sigmoid',input_shape = (6,1)))\n",
        "model.add(layers.Dense(28, activation=\"sigmoid\")) \n",
        "model.add(layers.Dense(8, activation=\"sigmoid\")) \n",
        "model.add(layers.Dense(2,activation='sigmoid'))"
      ],
      "execution_count": 9,
      "outputs": []
    },
    {
      "cell_type": "code",
      "metadata": {
        "colab": {
          "base_uri": "https://localhost:8080/"
        },
        "id": "xkC6RLa7YYIK",
        "outputId": "ad53e4cc-640c-480a-d496-8b92c42ab64b"
      },
      "source": [
        "loss = keras.losses.CategoricalCrossentropy(from_logits='true')\n",
        "optim = keras.optimizers.Adamax(lr=0.01)\n",
        "metrics = [\"accuracy\"]"
      ],
      "execution_count": 10,
      "outputs": [
        {
          "output_type": "stream",
          "name": "stderr",
          "text": [
            "/usr/local/lib/python3.7/dist-packages/keras/optimizer_v2/adamax.py:90: UserWarning: The `lr` argument is deprecated, use `learning_rate` instead.\n",
            "  super(Adamax, self).__init__(name, **kwargs)\n"
          ]
        }
      ]
    },
    {
      "cell_type": "code",
      "metadata": {
        "colab": {
          "base_uri": "https://localhost:8080/"
        },
        "id": "gZ62w-XsYYFJ",
        "outputId": "11d994a6-4d33-45a7-8981-bf3324ceddd3"
      },
      "source": [
        "model.compile(loss=loss,optimizer=optim , metrics='accuracy')\n",
        "model.summary()"
      ],
      "execution_count": 11,
      "outputs": [
        {
          "output_type": "stream",
          "name": "stdout",
          "text": [
            "Model: \"sequential_1\"\n",
            "_________________________________________________________________\n",
            " Layer (type)                Output Shape              Param #   \n",
            "=================================================================\n",
            " simple_rnn (SimpleRNN)      (None, 10)                120       \n",
            "                                                                 \n",
            " dense (Dense)               (None, 28)                308       \n",
            "                                                                 \n",
            " dense_1 (Dense)             (None, 8)                 232       \n",
            "                                                                 \n",
            " dense_2 (Dense)             (None, 2)                 18        \n",
            "                                                                 \n",
            "=================================================================\n",
            "Total params: 678\n",
            "Trainable params: 678\n",
            "Non-trainable params: 0\n",
            "_________________________________________________________________\n"
          ]
        }
      ]
    },
    {
      "cell_type": "code",
      "metadata": {
        "colab": {
          "base_uri": "https://localhost:8080/"
        },
        "id": "G8VHmx5FYYCL",
        "outputId": "5111ab56-c12e-4cad-cb3e-53175fb99410"
      },
      "source": [
        "y_train.shape"
      ],
      "execution_count": 12,
      "outputs": [
        {
          "output_type": "execute_result",
          "data": {
            "text/plain": [
              "(33500, 2)"
            ]
          },
          "metadata": {},
          "execution_count": 12
        }
      ]
    },
    {
      "cell_type": "code",
      "metadata": {
        "colab": {
          "base_uri": "https://localhost:8080/"
        },
        "id": "aRm7_a1YYwK6",
        "outputId": "073c2d33-34cc-4428-c5d9-0f3600b31793"
      },
      "source": [
        "history=model.fit(X_train,y_train,batch_size=128,epochs=10,validation_data=(X_test,y_test),verbose=2)"
      ],
      "execution_count": 13,
      "outputs": [
        {
          "output_type": "stream",
          "name": "stdout",
          "text": [
            "Epoch 1/10\n"
          ]
        },
        {
          "output_type": "stream",
          "name": "stderr",
          "text": [
            "/usr/local/lib/python3.7/dist-packages/tensorflow/python/util/dispatch.py:1096: UserWarning: \"`categorical_crossentropy` received `from_logits=True`, but the `output` argument was produced by a sigmoid or softmax activation and thus does not represent logits. Was this intended?\"\n",
            "  return dispatch_target(*args, **kwargs)\n"
          ]
        },
        {
          "output_type": "stream",
          "name": "stdout",
          "text": [
            "262/262 - 2s - loss: 0.6944 - accuracy: 0.5024 - val_loss: 0.6931 - val_accuracy: 0.5042 - 2s/epoch - 6ms/step\n",
            "Epoch 2/10\n",
            "262/262 - 1s - loss: 0.6937 - accuracy: 0.4993 - val_loss: 0.6930 - val_accuracy: 0.5042 - 626ms/epoch - 2ms/step\n",
            "Epoch 3/10\n",
            "262/262 - 1s - loss: 0.6936 - accuracy: 0.5017 - val_loss: 0.6929 - val_accuracy: 0.5124 - 547ms/epoch - 2ms/step\n",
            "Epoch 4/10\n",
            "262/262 - 1s - loss: 0.6935 - accuracy: 0.5020 - val_loss: 0.6929 - val_accuracy: 0.5042 - 564ms/epoch - 2ms/step\n",
            "Epoch 5/10\n",
            "262/262 - 1s - loss: 0.6938 - accuracy: 0.5022 - val_loss: 0.6934 - val_accuracy: 0.5042 - 526ms/epoch - 2ms/step\n",
            "Epoch 6/10\n",
            "262/262 - 1s - loss: 0.6937 - accuracy: 0.5013 - val_loss: 0.6938 - val_accuracy: 0.5042 - 537ms/epoch - 2ms/step\n",
            "Epoch 7/10\n",
            "262/262 - 1s - loss: 0.6937 - accuracy: 0.5003 - val_loss: 0.6936 - val_accuracy: 0.5042 - 559ms/epoch - 2ms/step\n",
            "Epoch 8/10\n",
            "262/262 - 1s - loss: 0.6934 - accuracy: 0.5018 - val_loss: 0.6949 - val_accuracy: 0.4958 - 564ms/epoch - 2ms/step\n",
            "Epoch 9/10\n",
            "262/262 - 1s - loss: 0.6936 - accuracy: 0.4988 - val_loss: 0.6931 - val_accuracy: 0.4958 - 542ms/epoch - 2ms/step\n",
            "Epoch 10/10\n",
            "262/262 - 1s - loss: 0.6933 - accuracy: 0.5024 - val_loss: 0.6933 - val_accuracy: 0.5042 - 527ms/epoch - 2ms/step\n"
          ]
        }
      ]
    },
    {
      "cell_type": "code",
      "metadata": {
        "colab": {
          "base_uri": "https://localhost:8080/"
        },
        "id": "PhpZGX43YwIq",
        "outputId": "15f66413-abdb-42cb-f10a-0d6e67541d30"
      },
      "source": [
        "pip install plot_keras_history"
      ],
      "execution_count": 14,
      "outputs": [
        {
          "output_type": "stream",
          "name": "stdout",
          "text": [
            "Collecting plot_keras_history\n",
            "  Downloading plot_keras_history-1.1.30.tar.gz (8.6 kB)\n",
            "Requirement already satisfied: matplotlib in /usr/local/lib/python3.7/dist-packages (from plot_keras_history) (3.2.2)\n",
            "Requirement already satisfied: pandas in /usr/local/lib/python3.7/dist-packages (from plot_keras_history) (1.1.5)\n",
            "Requirement already satisfied: scipy in /usr/local/lib/python3.7/dist-packages (from plot_keras_history) (1.4.1)\n",
            "Collecting sanitize_ml_labels>=1.0.28\n",
            "  Downloading sanitize_ml_labels-1.0.29.tar.gz (7.4 kB)\n",
            "Collecting compress_json\n",
            "  Downloading compress_json-1.0.4.tar.gz (4.7 kB)\n",
            "Requirement already satisfied: kiwisolver>=1.0.1 in /usr/local/lib/python3.7/dist-packages (from matplotlib->plot_keras_history) (1.3.2)\n",
            "Requirement already satisfied: numpy>=1.11 in /usr/local/lib/python3.7/dist-packages (from matplotlib->plot_keras_history) (1.19.5)\n",
            "Requirement already satisfied: pyparsing!=2.0.4,!=2.1.2,!=2.1.6,>=2.0.1 in /usr/local/lib/python3.7/dist-packages (from matplotlib->plot_keras_history) (3.0.6)\n",
            "Requirement already satisfied: cycler>=0.10 in /usr/local/lib/python3.7/dist-packages (from matplotlib->plot_keras_history) (0.11.0)\n",
            "Requirement already satisfied: python-dateutil>=2.1 in /usr/local/lib/python3.7/dist-packages (from matplotlib->plot_keras_history) (2.8.2)\n",
            "Requirement already satisfied: six>=1.5 in /usr/local/lib/python3.7/dist-packages (from python-dateutil>=2.1->matplotlib->plot_keras_history) (1.15.0)\n",
            "Requirement already satisfied: pytz>=2017.2 in /usr/local/lib/python3.7/dist-packages (from pandas->plot_keras_history) (2018.9)\n",
            "Building wheels for collected packages: plot-keras-history, sanitize-ml-labels, compress-json\n",
            "  Building wheel for plot-keras-history (setup.py) ... \u001b[?25l\u001b[?25hdone\n",
            "  Created wheel for plot-keras-history: filename=plot_keras_history-1.1.30-py3-none-any.whl size=8793 sha256=ca84c7629e97f0057cf1722fe932fb87361175d94b2a42bbb5c4fceab4a8e987\n",
            "  Stored in directory: /root/.cache/pip/wheels/b0/60/47/8c5aa37c06be5e97879ec467bc2e6a30b315d95f662c63a503\n",
            "  Building wheel for sanitize-ml-labels (setup.py) ... \u001b[?25l\u001b[?25hdone\n",
            "  Created wheel for sanitize-ml-labels: filename=sanitize_ml_labels-1.0.29-py3-none-any.whl size=7877 sha256=47d8f7fe871a5b7df1339997e5f1d59f73f7b2dc444555be2064dc411bd6fad1\n",
            "  Stored in directory: /root/.cache/pip/wheels/c2/f5/71/d1c459da10abec864a1979b449edbf37d4a82ab3e38a3625a8\n",
            "  Building wheel for compress-json (setup.py) ... \u001b[?25l\u001b[?25hdone\n",
            "  Created wheel for compress-json: filename=compress_json-1.0.4-py3-none-any.whl size=4585 sha256=eed9b7266a7aae0a93a4baadfeeaad819191501e575869d422f70fc318e1235c\n",
            "  Stored in directory: /root/.cache/pip/wheels/1e/ef/1e/5d403c5632b0462471a8d26049d0c138134d0255ec60ce4c14\n",
            "Successfully built plot-keras-history sanitize-ml-labels compress-json\n",
            "Installing collected packages: compress-json, sanitize-ml-labels, plot-keras-history\n",
            "Successfully installed compress-json-1.0.4 plot-keras-history-1.1.30 sanitize-ml-labels-1.0.29\n"
          ]
        }
      ]
    },
    {
      "cell_type": "code",
      "metadata": {
        "colab": {
          "base_uri": "https://localhost:8080/",
          "height": 385
        },
        "id": "pbCoY-CtYwF-",
        "outputId": "93947cd8-5874-40d0-fd1e-2f2ef5569ad1"
      },
      "source": [
        "from plot_keras_history import show_history, plot_history\n",
        "import matplotlib.pyplot as plt\n",
        "show_history(history)\n",
        "plot_history(history, path=\"standard.png\")\n",
        "plt.close()"
      ],
      "execution_count": 15,
      "outputs": [
        {
          "output_type": "display_data",
          "data": {
            "image/png": "[encoded data removed]",
            "text/plain": [
              "<Figure size 720x360 with 2 Axes>"
            ]
          },
          "metadata": {
            "needs_background": "light"
          }
        }
      ]
    },
    {
      "cell_type": "code",
      "metadata": {
        "id": "chgkXKKxYwDJ"
      },
      "source": [
        ""
      ],
      "execution_count": null,
      "outputs": []
    }
  ]
}